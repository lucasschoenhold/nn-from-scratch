{
 "cells": [
  {
   "cell_type": "markdown",
   "id": "982986b3-9743-45f3-abcd-928eb9c73654",
   "metadata": {},
   "source": [
    "# Momentum"
   ]
  },
  {
   "cell_type": "code",
   "execution_count": null,
   "id": "499f6352",
   "metadata": {},
   "outputs": [],
   "source": [
    "import matplotlib.pyplot as plt\n",
    "import numpy as np\n",
    "from sklearn.datasets import make_moons\n",
    "import sys\n",
    "import math\n",
    "from pathlib import Path\n",
    "\n",
    "# Add the project root to the Python path\n",
    "project_root = Path().absolute().parent.parent\n",
    "sys.path.append(str(project_root))\n",
    "\n",
    "from src.nn import MLP\n",
    "from src.optimizer import SGD, mse\n",
    "from src.Engine import Value, draw_graph"
   ]
  },
  {
   "cell_type": "code",
   "execution_count": null,
   "id": "74695992",
   "metadata": {},
   "outputs": [],
   "source": [
    "X, y = make_moons(n_samples=200, shuffle=True, noise=0.15, random_state=42)\n",
    "y = y * 2 - 1\n",
    "\n",
    "\n",
    "def model_predict_visualize_custom(X, y, net=None):\n",
    "    plt.scatter(X[:, 0], X[:, 1], c=y, s=20, cmap=\"jet\")\n",
    "\n",
    "    if net is not None:\n",
    "        x1_min, x1_max = X[:, 0].min() - 0.5, X[:, 0].max() + 0.5\n",
    "        x2_min, x2_max = X[:, 1].min() - 0.5, X[:, 1].max() + 0.5\n",
    "        xx1, xx2 = np.meshgrid(\n",
    "            np.linspace(x1_min, x1_max, 100), np.linspace(x2_min, x2_max, 100)\n",
    "        )\n",
    "        X_grid = np.stack([xx1.ravel(), xx2.ravel()], axis=1)\n",
    "        # Predict using the custom MLP\n",
    "        y_grid = []\n",
    "        for xg in X_grid:\n",
    "            out = net(xg.tolist())\n",
    "            # Output is a Value object, get its data and sign\n",
    "            y_grid.append(np.sign(out.data))\n",
    "        y_grid = np.array(y_grid).reshape(xx1.shape)\n",
    "        plt.contourf(xx1, xx2, y_grid, cmap=\"jet\", alpha=0.2)\n",
    "\n",
    "    plt.show()\n",
    "\n",
    "\n",
    "model_predict_visualize_custom(X, y)"
   ]
  },
  {
   "cell_type": "code",
   "execution_count": null,
   "id": "b6b647f7",
   "metadata": {},
   "outputs": [],
   "source": [
    "# Converting to list as we don't support numpy\n",
    "xs, ys = X.tolist(), y.tolist()"
   ]
  },
  {
   "cell_type": "code",
   "execution_count": null,
   "id": "006162ab",
   "metadata": {},
   "outputs": [],
   "source": [
    "mlp = MLP(2, [4, 1])\n",
    "lr = 0.001\n",
    "epochs = 500\n",
    "losses = []\n",
    "optimizer = SGD(mlp, lr=lr)\n",
    "print(optimizer)"
   ]
  },
  {
   "cell_type": "markdown",
   "id": "850d2c00-b146-421a-b23c-6e242e6c7ce8",
   "metadata": {},
   "source": [
    "# SGD"
   ]
  },
  {
   "cell_type": "code",
   "execution_count": null,
   "id": "e8f70c08-ef2f-419d-84d8-d11d5f2d5b0e",
   "metadata": {},
   "outputs": [],
   "source": [
    "def sgd(mlp):\n",
    "    lr = 0.001\n",
    "    losses = []\n",
    "    loss = Value(100)\n",
    "    epoch = 0\n",
    "\n",
    "    while epoch < 500:\n",
    "        # Forward pass\n",
    "        pred = []\n",
    "        for x in xs:\n",
    "            pred.append(mlp(x))\n",
    "\n",
    "        for p in mlp.parameters():\n",
    "            p.grad = 0.0\n",
    "\n",
    "        loss = mse(pred, ys)\n",
    "        losses.append(loss.data)\n",
    "        loss.backward()\n",
    "\n",
    "        for p in mlp.parameters():\n",
    "            p.data -= lr * p.grad\n",
    "\n",
    "        epoch += 1\n",
    "        print(f\"Epoch {epoch}: Loss: {loss.data}\")\n",
    "\n",
    "    return losses"
   ]
  },
  {
   "cell_type": "markdown",
   "id": "c1ad1b22-3864-4309-8ba7-1ff3925e711f",
   "metadata": {},
   "source": [
    "# Momentum\n",
    "An extension of SGD is using Momentum, a concept applied from physics. \n",
    "\n",
    "Momentum is like a ball rolling down a hill. Standard SGD drops the ball at each step - it only knows the current slope. Momentum **remembers the previous motion**, thereby accelerating down consistent slopes, which also dampens oscillation. **The influence of previous updated is known as velocity.**\n",
    "\n",
    "A parameter $\\gamma$ controls the influence of the velocity on the next update, reducing the influence of earlier updates on the current one.\n",
    "\n",
    "**Momentum Update Rule:**\n",
    "\n",
    "$$\n",
    "\\begin{split}\n",
    "&v_{t+1} = \\gamma \\cdot v_t + \\nabla \\mathcal{L}(\\theta_t) \\\\\n",
    "&\\theta_{t+1} = \\theta_t - \\eta \\cdot v_{t+1}\n",
    "\\end{split}\n",
    "$$\n",
    "\n",
    "This requires the allocation of additional memory for computing the velocity, meaning $|\\theta|$ many additional variables."
   ]
  },
  {
   "cell_type": "code",
   "execution_count": null,
   "id": "c987bdc6-35b2-4856-b989-7b71103e8d14",
   "metadata": {},
   "outputs": [],
   "source": [
    "def sgd_momentum(mlp):\n",
    "    lr = 0.001\n",
    "    gamma = 0.9\n",
    "    velocity = {p: 0.0 for p in mlp.parameters()}\n",
    "    losses = []\n",
    "    loss = Value(100)\n",
    "    epoch = 0\n",
    "\n",
    "    while epoch < 500:\n",
    "        # Forward pass\n",
    "        pred = [mlp(x) for x in xs]\n",
    "\n",
    "        for p in mlp.parameters():\n",
    "            p.grad = 0.0\n",
    "\n",
    "        loss = mse(pred, ys)\n",
    "        losses.append(loss.data)\n",
    "        loss.backward()\n",
    "\n",
    "        for p in mlp.parameters():\n",
    "            velocity[p] = gamma * velocity[p] + p.grad\n",
    "            p.data -= lr * velocity[p]\n",
    "\n",
    "        epoch += 1\n",
    "        print(f\"Epoch {epoch}: Loss: {loss.data}\")\n",
    "\n",
    "    return losses"
   ]
  },
  {
   "cell_type": "code",
   "execution_count": null,
   "id": "a6f2c24a-54c5-4f79-a881-feaa04f14970",
   "metadata": {
    "scrolled": true
   },
   "outputs": [],
   "source": [
    "mlp_sgd = MLP(2, [4, 1])\n",
    "mlp_sgd_m = MLP(2, [4, 1])\n",
    "\n",
    "# Setting equal inital parameters for testing\n",
    "for p, q in zip(mlp_sgd.parameters(), mlp_sgd_m.parameters()):\n",
    "    q.data = p.data\n",
    "\n",
    "print(\"Vanilla SGD\")\n",
    "# sgd_losses = sgd(mlp_sgd)\n",
    "print(\"SGD with momentum\")\n",
    "sgd_momentum_losses = sgd_momentum(mlp_sgd_m)"
   ]
  },
  {
   "cell_type": "code",
   "execution_count": null,
   "id": "5d73c1f9-57b7-44b0-915e-042800e3fca6",
   "metadata": {},
   "outputs": [],
   "source": [
    "plt.plot(sgd_losses, label=\"Vanilla SGD\")\n",
    "plt.plot(sgd_momentum_losses, label=\"SGD with Momentum\")\n",
    "plt.legend()"
   ]
  },
  {
   "cell_type": "code",
   "execution_count": null,
   "id": "049b54ff-a4c4-4f16-a079-03681fcead58",
   "metadata": {},
   "outputs": [],
   "source": [
    "model_predict_visualize_custom(X, y, mlp_sgd)"
   ]
  },
  {
   "cell_type": "code",
   "execution_count": null,
   "id": "fe3b54cc-f5dd-4c08-963b-c5ac74f5329b",
   "metadata": {},
   "outputs": [],
   "source": [
    "model_predict_visualize_custom(X, y, mlp_sgd_m)"
   ]
  },
  {
   "cell_type": "code",
   "execution_count": null,
   "id": "78c70ba0-7ed6-46aa-b05c-2dc620941f14",
   "metadata": {},
   "outputs": [],
   "source": []
  }
 ],
 "metadata": {
  "kernelspec": {
   "display_name": "Python 3 (ipykernel)",
   "language": "python",
   "name": "python3"
  },
  "language_info": {
   "codemirror_mode": {
    "name": "ipython",
    "version": 3
   },
   "file_extension": ".py",
   "mimetype": "text/x-python",
   "name": "python",
   "nbconvert_exporter": "python",
   "pygments_lexer": "ipython3",
   "version": "3.12.0"
  }
 },
 "nbformat": 4,
 "nbformat_minor": 5
}
