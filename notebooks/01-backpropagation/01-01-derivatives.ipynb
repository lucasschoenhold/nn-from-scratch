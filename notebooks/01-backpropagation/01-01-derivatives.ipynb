{
 "cells": [
  {
   "cell_type": "code",
   "execution_count": null,
   "id": "f1e85903-9b9c-42b0-92d9-ddcf21daa695",
   "metadata": {},
   "outputs": [],
   "source": [
    "import matplotlib.pyplot as plt\n",
    "import numpy as np"
   ]
  },
  {
   "cell_type": "markdown",
   "id": "dee0d1ae-fb53-466c-ac11-63e775b35302",
   "metadata": {},
   "source": [
    "# Defining a function\n",
    "$$\n",
    "f(x) = 3x^2 + 8x - 11\n",
    "$$"
   ]
  },
  {
   "cell_type": "code",
   "execution_count": null,
   "id": "72afb24b-86fa-4a9e-acb6-93aeb3f9e7e2",
   "metadata": {},
   "outputs": [],
   "source": [
    "def f(x):\n",
    "    return 3 * x**2 + 8 * x - 11"
   ]
  },
  {
   "cell_type": "code",
   "execution_count": null,
   "id": "fa805704-2292-4439-ad0a-6e75f1c2828d",
   "metadata": {},
   "outputs": [],
   "source": [
    "f(-3)"
   ]
  },
  {
   "cell_type": "code",
   "execution_count": null,
   "id": "de42ca6c-550b-4903-9362-edbde7c99c85",
   "metadata": {},
   "outputs": [],
   "source": [
    "xs = np.arange(-5, 5, 0.25)\n",
    "print(xs)"
   ]
  },
  {
   "cell_type": "code",
   "execution_count": null,
   "id": "7a02e135-5866-4f3d-bd61-6e2d1f9f69c8",
   "metadata": {},
   "outputs": [],
   "source": [
    "ys = f(xs)\n",
    "print(ys)"
   ]
  },
  {
   "cell_type": "code",
   "execution_count": null,
   "id": "7abcdf04-2612-4124-a216-2c72d3f1e85e",
   "metadata": {},
   "outputs": [],
   "source": [
    "plt.plot(xs, ys)"
   ]
  },
  {
   "cell_type": "markdown",
   "id": "b41bdad3-1473-48b6-aae2-5d1e52ac632b",
   "metadata": {},
   "source": [
    "# Computing the derivative\n",
    "\n",
    "Computing the derivative of a function at a certain point, is done by evaluating how the function *responds* to a small increase $h$, does it go up? or does it go down? and by how much?\n",
    "\n",
    "This can be computed by pluggin in $x+h$ into the function: $f(x+h)$ and subtracting the value of $f(x)$, and dividing by $h$ because we want to know how much the function has changed per unit of $h$. This is called the *difference quotient*. \n",
    "\n",
    "$h$ is a small number, and we want to see what happens as $h$ approaches $0$, this is because we want to know the instantaneous rate of change at $x$.\n",
    "This is called the *derivative* of $f$ at $x$, and is denoted by $f'(x)$ or $\\frac{df}{dx}$.\n",
    "$$\n",
    "L = \\underset{h \\to 0}{\\lim} \\ \\frac{f(x + h) - f(x)}{h}\n",
    "$$"
   ]
  },
  {
   "cell_type": "markdown",
   "id": "36381bae-ffee-4c6e-97ed-5045ea3e138f",
   "metadata": {},
   "source": [
    "This nudges the function by the parameter $h$"
   ]
  },
  {
   "cell_type": "code",
   "execution_count": null,
   "id": "373cb519-c8b2-45ae-a05c-df59046bbe57",
   "metadata": {},
   "outputs": [],
   "source": [
    "x = -3\n",
    "h = 0.001\n",
    "\n",
    "f(x + h)"
   ]
  },
  {
   "cell_type": "code",
   "execution_count": null,
   "id": "518ae012-c9a4-49a0-b594-515c60e8ed34",
   "metadata": {},
   "outputs": [],
   "source": [
    "f(x)"
   ]
  },
  {
   "cell_type": "markdown",
   "id": "caa01b90-82e9-4c01-9721-0b892baa7a28",
   "metadata": {},
   "source": [
    "If we want to find out by how much the function has changed we need to compute"
   ]
  },
  {
   "cell_type": "code",
   "execution_count": null,
   "id": "92daec99-53ef-4afe-ab44-11f4572197d1",
   "metadata": {},
   "outputs": [],
   "source": [
    "f(x + h) - f(x)"
   ]
  },
  {
   "cell_type": "markdown",
   "id": "3d1e16fe-45e1-4b8d-a2db-c8897c804b90",
   "metadata": {},
   "source": [
    "We then have to normalize by the rise of the run $h$ to get the slope that connects the two points $f(x)$ and $f(x+h)$"
   ]
  },
  {
   "cell_type": "code",
   "execution_count": null,
   "id": "548ffb1c-9a45-42a4-ac4c-d48f1b76a3eb",
   "metadata": {},
   "outputs": [],
   "source": [
    "x = -3\n",
    "h = 0.001\n",
    "\n",
    "(f(x + h) - f(x)) / h"
   ]
  },
  {
   "cell_type": "code",
   "execution_count": null,
   "id": "79f5c59b",
   "metadata": {},
   "outputs": [],
   "source": [
    "slope = (f(x + h) - f(x)) / h\n",
    "tangent_intercept = f(x) - slope * x\n",
    "tangent_line = slope * xs + tangent_intercept\n",
    "\n",
    "plt.plot(xs, ys)\n",
    "plt.plot(xs, tangent_line)\n",
    "plt.xlabel(\"x\")\n",
    "plt.ylabel(\"y\")"
   ]
  },
  {
   "cell_type": "markdown",
   "id": "512c72aa-0735-49d5-95ad-bdf36535a394",
   "metadata": {},
   "source": [
    "This result checks out, if we're doing the derivative manually we would get:\n",
    "\n",
    "$$\n",
    "\\begin{align}\n",
    "&f(x) = 3x^2 + 8x - 11 \\\\\n",
    "&f'(x) = 6x + 8\n",
    "\\end{align}\n",
    "$$\n",
    "\n",
    "with $x = -3$\n",
    "$$\n",
    "f'(-3) = 6 \\cdot (-3) + 8 = -10\n",
    "$$"
   ]
  },
  {
   "cell_type": "markdown",
   "id": "4972d5d8-3ac4-4948-b0cd-2b3d155c3b17",
   "metadata": {},
   "source": [
    "## Change of the function"
   ]
  },
  {
   "cell_type": "markdown",
   "id": "f5dd0d1d-1b15-44e1-be1a-9d01189bd723",
   "metadata": {},
   "source": [
    "If we set $x=-3$ the sign in front of the slope will become negative"
   ]
  },
  {
   "cell_type": "code",
   "execution_count": null,
   "id": "179c59ac-c96a-4175-aff0-94b784630cc5",
   "metadata": {},
   "outputs": [],
   "source": [
    "x = -3\n",
    "h = 0.00000001\n",
    "\n",
    "(f(x + h) - f(x)) / h"
   ]
  },
  {
   "cell_type": "markdown",
   "id": "5e9f9cfc-a936-45ed-bb8a-c4f44161e22b",
   "metadata": {},
   "source": [
    "The sign in front of the slope, tell us wherever the slope is increasing or decreasing.\n",
    "\n",
    "if $L > 0$: **slope is increasing**\n",
    "\n",
    "if $L < 0$: **slope is decreasing**"
   ]
  },
  {
   "cell_type": "code",
   "execution_count": null,
   "id": "0b04920f",
   "metadata": {},
   "outputs": [],
   "source": [
    "x1 = -3\n",
    "x2 = 3\n",
    "h = 0.001\n",
    "\n",
    "slope1 = (f(x1 + h) - f(x1)) / h\n",
    "slope2 = (f(x2 + h) - f(x2)) / h\n",
    "\n",
    "print(f\"slope1 = {slope1}\")\n",
    "print(f\"slope2 = {slope2}\")\n",
    "\n",
    "# Comuting the tangent to print\n",
    "tangent_intercept1 = f(x1) - slope1 * x1\n",
    "tangent_intercept2 = f(x2) - slope2 * x2\n",
    "tangent_line1 = slope1 * xs + tangent_intercept1\n",
    "tangent_line2 = slope2 * xs + tangent_intercept2\n",
    "\n",
    "# Plotting the points\n",
    "plt.scatter([x1, x2], [f(x1), f(x2)], color=\"black\")\n",
    "plt.text(x1, f(x1), \"x1\", fontsize=12, ha=\"right\")\n",
    "plt.text(x2, f(x2), \"x2\", fontsize=12, ha=\"right\")\n",
    "\n",
    "plt.plot(xs, ys, label=\"f(x)\")\n",
    "plt.plot(xs, tangent_line1, label=\"Tangent line at x = -3\")\n",
    "plt.plot(xs, tangent_line2, label=\"Tangent line at x = 3\")\n",
    "plt.legend()\n",
    "plt.xlabel(\"x\")\n",
    "plt.ylabel(\"y\")"
   ]
  },
  {
   "cell_type": "markdown",
   "id": "74def022-6143-4ca0-97e2-f9f805c0269a",
   "metadata": {},
   "source": [
    "At some point the derivative will be $0$, which will indicate the local minimum of the function. This can be computed by solving $f'(x) = 0$, which in this case is $-\\frac{4}{3}$\n",
    "At this point the direction of the slope will change."
   ]
  },
  {
   "cell_type": "code",
   "execution_count": null,
   "id": "2828ec1f-0ba9-439c-a149-09e32b63636b",
   "metadata": {},
   "outputs": [],
   "source": [
    "x = -4 / 3\n",
    "h = 0.00000001\n",
    "\n",
    "(f(x + h) - f(x)) / h"
   ]
  },
  {
   "cell_type": "markdown",
   "id": "63762ba0-f94d-415c-afac-f37726c0aeb1",
   "metadata": {},
   "source": [
    "## Pushing to the limit"
   ]
  },
  {
   "cell_type": "markdown",
   "id": "91500f55-feb7-4abf-a935-8ea04dcacc10",
   "metadata": {},
   "source": [
    "if we push $h$ closer to $0$ at some time we will get an incorrect answer because we're using floating point arrythmatic which is finite and can therefore only represent number until a certain precission."
   ]
  },
  {
   "cell_type": "code",
   "execution_count": null,
   "id": "c51e29b2-ac36-4685-b451-6942153cc818",
   "metadata": {},
   "outputs": [],
   "source": [
    "x = -3\n",
    "h = 0.00000001\n",
    "\n",
    "(f(x + h) - f(x)) / h"
   ]
  },
  {
   "cell_type": "code",
   "execution_count": null,
   "id": "7cd0f7ae-f883-4926-b604-d6f4bb52f932",
   "metadata": {},
   "outputs": [],
   "source": [
    "x = 3\n",
    "h = 0.00000000000000001\n",
    "\n",
    "(f(x + h) - f(x)) / h"
   ]
  },
  {
   "cell_type": "markdown",
   "id": "00386e03-4c78-45e8-b43c-3dfa5615573e",
   "metadata": {},
   "source": [
    "# Derivatives with multiple inputs\n",
    "\n",
    "Give an function with multiple inputs we also expect the function to change when we change the inputs.\n",
    "However, depending on what input is changed the results vary"
   ]
  },
  {
   "cell_type": "markdown",
   "id": "d7897652-317a-4492-8103-2a6d34302a23",
   "metadata": {},
   "source": [
    "$$\n",
    "d(a, b, c) = a \\cdot b + c\n",
    "$$"
   ]
  },
  {
   "cell_type": "code",
   "execution_count": null,
   "id": "9413f5b7-5a3f-4180-a7a1-915a2eaf79cc",
   "metadata": {},
   "outputs": [],
   "source": [
    "def d(a, b, c):\n",
    "    return a * b + c"
   ]
  },
  {
   "cell_type": "code",
   "execution_count": null,
   "id": "0104c5f2-7e57-4edf-8d40-f40176785757",
   "metadata": {},
   "outputs": [],
   "source": [
    "# inputs\n",
    "a = 2.0\n",
    "b = -3.0\n",
    "c = 10.0\n",
    "\n",
    "d1 = d(a, b, c)\n",
    "\n",
    "print(f\"d(a, b, c) = {d1}\")"
   ]
  },
  {
   "cell_type": "markdown",
   "id": "d7252077-2327-4029-ac77-e7fab2592ee8",
   "metadata": {},
   "source": [
    "## Nudging inputs\n",
    "If we nudge the function by a parameter $h=0.001$ the function will respond. However, it will respond differently based on what variable will be nudged."
   ]
  },
  {
   "cell_type": "markdown",
   "id": "4cd05805-7d5b-48b2-bcd1-b6f24c700ce9",
   "metadata": {},
   "source": [
    "### Nudging $a$"
   ]
  },
  {
   "cell_type": "code",
   "execution_count": null,
   "id": "9f6b54bb-bf94-4fe2-bcc6-5c4ac0184395",
   "metadata": {},
   "outputs": [],
   "source": [
    "h = 0.001\n",
    "d2 = d(a + h, b, c)\n",
    "slope_a = (d2 - d1) / h\n",
    "\n",
    "print(f\"d(a+{h}, b, c) = {d2}\")\n",
    "print(f\"d'(a+{h}, b, c) = {slope_a})\")"
   ]
  },
  {
   "cell_type": "markdown",
   "id": "db4c308d-0c63-4643-b28e-52976d5da13d",
   "metadata": {},
   "source": [
    "this is an expected result considering that when we nudge $a$ by $0.001$ we **increase the value of $a$** which is multiplied by $b$ which is $-3.0$, therby we're making the function put more weight on the parameter $b$ which since it is negative means that we expect the function to go down\n",
    "\n",
    "$\\to$ we expect the sign of the slope to be negative"
   ]
  },
  {
   "cell_type": "markdown",
   "id": "019d731f-aac9-48a4-853d-8b4a78068bef",
   "metadata": {},
   "source": [
    "### Nudging $b$"
   ]
  },
  {
   "cell_type": "markdown",
   "id": "8e17b856-cfc3-4fa0-bd61-8c566cf15c00",
   "metadata": {},
   "source": [
    "If we nudge the variable $b$ by the parameter $h=0.001$ we expect the function to change."
   ]
  },
  {
   "cell_type": "code",
   "execution_count": null,
   "id": "869afa3b-0e86-43f5-9e37-f18e7197a46b",
   "metadata": {},
   "outputs": [],
   "source": [
    "h = 0.001\n",
    "d2 = d(a, b + h, c)\n",
    "slope_a = (d2 - d1) / h\n",
    "\n",
    "print(f\"d(a+{h}, b, c) = {d2}\")\n",
    "print(f\"d'(a+{h}, b, c) = {slope_a})\")"
   ]
  },
  {
   "cell_type": "markdown",
   "id": "8f190d38-e0c3-4c25-8500-f68e3f45a683",
   "metadata": {},
   "source": [
    "this is also an expected result considering we're putting more weight on $b$ which get's increased by $h=0.001$\n",
    "\n",
    "$\\to$ we expect the sign of the slope to be positive"
   ]
  },
  {
   "cell_type": "markdown",
   "id": "443de1ad-a8f3-4a65-acd1-4572385234db",
   "metadata": {},
   "source": [
    "### Nudging $c$"
   ]
  },
  {
   "cell_type": "markdown",
   "id": "b6ef2fa8-805e-4ac2-ab15-091eefa3c48a",
   "metadata": {},
   "source": [
    "If we nudge the variable $c$ by the parameter $h=0.001$ we expect the function to change."
   ]
  },
  {
   "cell_type": "markdown",
   "id": "c0d44fc5-844d-4760-be3b-5e811eb4c536",
   "metadata": {},
   "source": [
    "This is also expected since we're bumping $c$ by $h=0.001$, and therby increasing $c$ and, therfore increasing the slope, making the sign of it poitive\n",
    "\n",
    "$\\to$ we expect the sign of the slope to be positive"
   ]
  }
 ],
 "metadata": {
  "kernelspec": {
   "display_name": "Python 3 (ipykernel)",
   "language": "python",
   "name": "python3"
  },
  "language_info": {
   "codemirror_mode": {
    "name": "ipython",
    "version": 3
   },
   "file_extension": ".py",
   "mimetype": "text/x-python",
   "name": "python",
   "nbconvert_exporter": "python",
   "pygments_lexer": "ipython3",
   "version": "3.12.0"
  }
 },
 "nbformat": 4,
 "nbformat_minor": 5
}
